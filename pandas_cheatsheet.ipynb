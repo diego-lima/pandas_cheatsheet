{
 "cells": [
  {
   "cell_type": "code",
   "execution_count": 1,
   "metadata": {},
   "outputs": [
    {
     "data": {
      "text/html": [
       "<div>\n",
       "<style scoped>\n",
       "    .dataframe tbody tr th:only-of-type {\n",
       "        vertical-align: middle;\n",
       "    }\n",
       "\n",
       "    .dataframe tbody tr th {\n",
       "        vertical-align: top;\n",
       "    }\n",
       "\n",
       "    .dataframe thead th {\n",
       "        text-align: right;\n",
       "    }\n",
       "</style>\n",
       "<table border=\"1\" class=\"dataframe\">\n",
       "  <thead>\n",
       "    <tr style=\"text-align: right;\">\n",
       "      <th></th>\n",
       "      <th>id</th>\n",
       "      <th>variable</th>\n",
       "      <th>value</th>\n",
       "    </tr>\n",
       "  </thead>\n",
       "  <tbody>\n",
       "    <tr>\n",
       "      <th>0</th>\n",
       "      <td>14313738</td>\n",
       "      <td>AGT160</td>\n",
       "      <td>0.063590</td>\n",
       "    </tr>\n",
       "    <tr>\n",
       "      <th>1</th>\n",
       "      <td>14317404</td>\n",
       "      <td>AGT162</td>\n",
       "      <td>0.078210</td>\n",
       "    </tr>\n",
       "    <tr>\n",
       "      <th>2</th>\n",
       "      <td>14362561</td>\n",
       "      <td>AGT155</td>\n",
       "      <td>0.214060</td>\n",
       "    </tr>\n",
       "    <tr>\n",
       "      <th>3</th>\n",
       "      <td>14321720</td>\n",
       "      <td>AGT161</td>\n",
       "      <td>0.323840</td>\n",
       "    </tr>\n",
       "    <tr>\n",
       "      <th>4</th>\n",
       "      <td>14314713</td>\n",
       "      <td>AGT162</td>\n",
       "      <td>0.079920</td>\n",
       "    </tr>\n",
       "    <tr>\n",
       "      <th>5</th>\n",
       "      <td>14369775</td>\n",
       "      <td>AGT163</td>\n",
       "      <td>0.106900</td>\n",
       "    </tr>\n",
       "    <tr>\n",
       "      <th>6</th>\n",
       "      <td>14353801</td>\n",
       "      <td>AGT153</td>\n",
       "      <td>0.068780</td>\n",
       "    </tr>\n",
       "    <tr>\n",
       "      <th>7</th>\n",
       "      <td>14365883</td>\n",
       "      <td>AGT165</td>\n",
       "      <td>0.086491</td>\n",
       "    </tr>\n",
       "    <tr>\n",
       "      <th>8</th>\n",
       "      <td>14332650</td>\n",
       "      <td>AGT153</td>\n",
       "      <td>0.074210</td>\n",
       "    </tr>\n",
       "  </tbody>\n",
       "</table>\n",
       "</div>"
      ],
      "text/plain": [
       "         id variable     value\n",
       "0  14313738   AGT160  0.063590\n",
       "1  14317404   AGT162  0.078210\n",
       "2  14362561   AGT155  0.214060\n",
       "3  14321720   AGT161  0.323840\n",
       "4  14314713   AGT162  0.079920\n",
       "5  14369775   AGT163  0.106900\n",
       "6  14353801   AGT153  0.068780\n",
       "7  14365883   AGT165  0.086491\n",
       "8  14332650   AGT153  0.074210"
      ]
     },
     "execution_count": 1,
     "metadata": {},
     "output_type": "execute_result"
    }
   ],
   "source": [
    "#SETUP INICIAL\n",
    "import pandas\n",
    "df = pandas.read_csv(\"Scores.csv\")\n",
    "df"
   ]
  },
  {
   "cell_type": "markdown",
   "metadata": {},
   "source": [
    "<h1>Operações não específicas</h1>\n",
    "<br/><em>Coisas úteis de vez enquanto</em>\n",
    "<ul>\n",
    "<li>Selecionar colunas</li>\n",
    "<li>Selecionar linhas de acordo com valor da coluna</li>\n",
    "<li>Acessar o valor de uma célula</li>\n",
    "<li>Iterar as linhas do dataframe</li>\n",
    "<li>Concatenando dataframes</li>\n",
    "</ul>"
   ]
  },
  {
   "cell_type": "markdown",
   "metadata": {},
   "source": [
    "<strong>não selecionar todas colunas:</strong>"
   ]
  },
  {
   "cell_type": "code",
   "execution_count": 6,
   "metadata": {},
   "outputs": [
    {
     "data": {
      "text/html": [
       "<div>\n",
       "<table border=\"1\" class=\"dataframe\">\n",
       "  <thead>\n",
       "    <tr style=\"text-align: right;\">\n",
       "      <th></th>\n",
       "      <th>variable</th>\n",
       "      <th>value</th>\n",
       "    </tr>\n",
       "  </thead>\n",
       "  <tbody>\n",
       "    <tr>\n",
       "      <th>0</th>\n",
       "      <td>AGT160</td>\n",
       "      <td>0.063590</td>\n",
       "    </tr>\n",
       "    <tr>\n",
       "      <th>1</th>\n",
       "      <td>AGT162</td>\n",
       "      <td>0.078210</td>\n",
       "    </tr>\n",
       "    <tr>\n",
       "      <th>2</th>\n",
       "      <td>AGT155</td>\n",
       "      <td>0.214060</td>\n",
       "    </tr>\n",
       "    <tr>\n",
       "      <th>3</th>\n",
       "      <td>AGT161</td>\n",
       "      <td>0.323840</td>\n",
       "    </tr>\n",
       "    <tr>\n",
       "      <th>4</th>\n",
       "      <td>AGT162</td>\n",
       "      <td>0.079920</td>\n",
       "    </tr>\n",
       "    <tr>\n",
       "      <th>5</th>\n",
       "      <td>AGT163</td>\n",
       "      <td>0.106900</td>\n",
       "    </tr>\n",
       "    <tr>\n",
       "      <th>6</th>\n",
       "      <td>AGT153</td>\n",
       "      <td>0.068780</td>\n",
       "    </tr>\n",
       "    <tr>\n",
       "      <th>7</th>\n",
       "      <td>AGT165</td>\n",
       "      <td>0.086491</td>\n",
       "    </tr>\n",
       "    <tr>\n",
       "      <th>8</th>\n",
       "      <td>AGT153</td>\n",
       "      <td>0.074210</td>\n",
       "    </tr>\n",
       "  </tbody>\n",
       "</table>\n",
       "</div>"
      ],
      "text/plain": [
       "  variable     value\n",
       "0   AGT160  0.063590\n",
       "1   AGT162  0.078210\n",
       "2   AGT155  0.214060\n",
       "3   AGT161  0.323840\n",
       "4   AGT162  0.079920\n",
       "5   AGT163  0.106900\n",
       "6   AGT153  0.068780\n",
       "7   AGT165  0.086491\n",
       "8   AGT153  0.074210"
      ]
     },
     "execution_count": 6,
     "metadata": {},
     "output_type": "execute_result"
    }
   ],
   "source": [
    "df[['variable','value']]"
   ]
  },
  {
   "cell_type": "markdown",
   "metadata": {},
   "source": [
    "<strong>também pode ser:</strong>"
   ]
  },
  {
   "cell_type": "code",
   "execution_count": 8,
   "metadata": {},
   "outputs": [
    {
     "data": {
      "text/html": [
       "<div>\n",
       "<table border=\"1\" class=\"dataframe\">\n",
       "  <thead>\n",
       "    <tr style=\"text-align: right;\">\n",
       "      <th></th>\n",
       "      <th>variable</th>\n",
       "      <th>value</th>\n",
       "    </tr>\n",
       "  </thead>\n",
       "  <tbody>\n",
       "    <tr>\n",
       "      <th>0</th>\n",
       "      <td>AGT160</td>\n",
       "      <td>0.063590</td>\n",
       "    </tr>\n",
       "    <tr>\n",
       "      <th>1</th>\n",
       "      <td>AGT162</td>\n",
       "      <td>0.078210</td>\n",
       "    </tr>\n",
       "    <tr>\n",
       "      <th>2</th>\n",
       "      <td>AGT155</td>\n",
       "      <td>0.214060</td>\n",
       "    </tr>\n",
       "    <tr>\n",
       "      <th>3</th>\n",
       "      <td>AGT161</td>\n",
       "      <td>0.323840</td>\n",
       "    </tr>\n",
       "    <tr>\n",
       "      <th>4</th>\n",
       "      <td>AGT162</td>\n",
       "      <td>0.079920</td>\n",
       "    </tr>\n",
       "    <tr>\n",
       "      <th>5</th>\n",
       "      <td>AGT163</td>\n",
       "      <td>0.106900</td>\n",
       "    </tr>\n",
       "    <tr>\n",
       "      <th>6</th>\n",
       "      <td>AGT153</td>\n",
       "      <td>0.068780</td>\n",
       "    </tr>\n",
       "    <tr>\n",
       "      <th>7</th>\n",
       "      <td>AGT165</td>\n",
       "      <td>0.086491</td>\n",
       "    </tr>\n",
       "    <tr>\n",
       "      <th>8</th>\n",
       "      <td>AGT153</td>\n",
       "      <td>0.074210</td>\n",
       "    </tr>\n",
       "  </tbody>\n",
       "</table>\n",
       "</div>"
      ],
      "text/plain": [
       "  variable     value\n",
       "0   AGT160  0.063590\n",
       "1   AGT162  0.078210\n",
       "2   AGT155  0.214060\n",
       "3   AGT161  0.323840\n",
       "4   AGT162  0.079920\n",
       "5   AGT163  0.106900\n",
       "6   AGT153  0.068780\n",
       "7   AGT165  0.086491\n",
       "8   AGT153  0.074210"
      ]
     },
     "execution_count": 8,
     "metadata": {},
     "output_type": "execute_result"
    }
   ],
   "source": [
    "df.ix[:, df.columns != 'id']"
   ]
  },
  {
   "cell_type": "markdown",
   "metadata": {},
   "source": [
    "<strong>Selecionar linhas de acordo com valor da coluna</strong>"
   ]
  },
  {
   "cell_type": "code",
   "execution_count": 43,
   "metadata": {},
   "outputs": [
    {
     "data": {
      "text/html": [
       "<div>\n",
       "<table border=\"1\" class=\"dataframe\">\n",
       "  <thead>\n",
       "    <tr style=\"text-align: right;\">\n",
       "      <th></th>\n",
       "      <th>id</th>\n",
       "      <th>variable</th>\n",
       "      <th>value</th>\n",
       "    </tr>\n",
       "  </thead>\n",
       "  <tbody>\n",
       "    <tr>\n",
       "      <th>6</th>\n",
       "      <td>14353801</td>\n",
       "      <td>AGT153</td>\n",
       "      <td>0.06878</td>\n",
       "    </tr>\n",
       "    <tr>\n",
       "      <th>8</th>\n",
       "      <td>14332650</td>\n",
       "      <td>AGT153</td>\n",
       "      <td>0.07421</td>\n",
       "    </tr>\n",
       "  </tbody>\n",
       "</table>\n",
       "</div>"
      ],
      "text/plain": [
       "         id variable    value\n",
       "6  14353801   AGT153  0.06878\n",
       "8  14332650   AGT153  0.07421"
      ]
     },
     "execution_count": 43,
     "metadata": {},
     "output_type": "execute_result"
    }
   ],
   "source": [
    "# Similar ao WHERE do SQL\n",
    "df.loc[df['variable'] == 'AGT153']"
   ]
  },
  {
   "cell_type": "code",
   "execution_count": 44,
   "metadata": {},
   "outputs": [
    {
     "data": {
      "text/html": [
       "<div>\n",
       "<table border=\"1\" class=\"dataframe\">\n",
       "  <thead>\n",
       "    <tr style=\"text-align: right;\">\n",
       "      <th></th>\n",
       "      <th>id</th>\n",
       "      <th>variable</th>\n",
       "      <th>value</th>\n",
       "    </tr>\n",
       "  </thead>\n",
       "  <tbody>\n",
       "    <tr>\n",
       "      <th>1</th>\n",
       "      <td>14317404</td>\n",
       "      <td>AGT162</td>\n",
       "      <td>0.07821</td>\n",
       "    </tr>\n",
       "    <tr>\n",
       "      <th>4</th>\n",
       "      <td>14314713</td>\n",
       "      <td>AGT162</td>\n",
       "      <td>0.07992</td>\n",
       "    </tr>\n",
       "    <tr>\n",
       "      <th>6</th>\n",
       "      <td>14353801</td>\n",
       "      <td>AGT153</td>\n",
       "      <td>0.06878</td>\n",
       "    </tr>\n",
       "    <tr>\n",
       "      <th>8</th>\n",
       "      <td>14332650</td>\n",
       "      <td>AGT153</td>\n",
       "      <td>0.07421</td>\n",
       "    </tr>\n",
       "  </tbody>\n",
       "</table>\n",
       "</div>"
      ],
      "text/plain": [
       "         id variable    value\n",
       "1  14317404   AGT162  0.07821\n",
       "4  14314713   AGT162  0.07992\n",
       "6  14353801   AGT153  0.06878\n",
       "8  14332650   AGT153  0.07421"
      ]
     },
     "execution_count": 44,
     "metadata": {},
     "output_type": "execute_result"
    }
   ],
   "source": [
    "# Similar ao variable__in=['AGT153','AGT162'] da ORM do Django\n",
    "df.loc[df['variable'].isin(['AGT153','AGT162'])]"
   ]
  },
  {
   "cell_type": "code",
   "execution_count": 37,
   "metadata": {},
   "outputs": [
    {
     "data": {
      "text/html": [
       "<div>\n",
       "<table border=\"1\" class=\"dataframe\">\n",
       "  <thead>\n",
       "    <tr style=\"text-align: right;\">\n",
       "      <th></th>\n",
       "      <th>id</th>\n",
       "      <th>variable</th>\n",
       "      <th>value</th>\n",
       "    </tr>\n",
       "  </thead>\n",
       "  <tbody>\n",
       "    <tr>\n",
       "      <th>1</th>\n",
       "      <td>14317404</td>\n",
       "      <td>AGT162</td>\n",
       "      <td>0.07821</td>\n",
       "    </tr>\n",
       "    <tr>\n",
       "      <th>4</th>\n",
       "      <td>14314713</td>\n",
       "      <td>AGT162</td>\n",
       "      <td>0.07992</td>\n",
       "    </tr>\n",
       "    <tr>\n",
       "      <th>6</th>\n",
       "      <td>14353801</td>\n",
       "      <td>AGT153</td>\n",
       "      <td>0.06878</td>\n",
       "    </tr>\n",
       "    <tr>\n",
       "      <th>8</th>\n",
       "      <td>14332650</td>\n",
       "      <td>AGT153</td>\n",
       "      <td>0.07421</td>\n",
       "    </tr>\n",
       "  </tbody>\n",
       "</table>\n",
       "</div>"
      ],
      "text/plain": [
       "         id variable    value\n",
       "1  14317404   AGT162  0.07821\n",
       "4  14314713   AGT162  0.07992\n",
       "6  14353801   AGT153  0.06878\n",
       "8  14332650   AGT153  0.07421"
      ]
     },
     "execution_count": 37,
     "metadata": {},
     "output_type": "execute_result"
    }
   ],
   "source": [
    "# Misturando os dois\n",
    "df.loc[(df['value'] < 0.5) & df['variable'].isin(['AGT153','AGT162'])]"
   ]
  },
  {
   "cell_type": "markdown",
   "metadata": {},
   "source": [
    "<strong>Acessar o valor de uma célula</strong>"
   ]
  },
  {
   "cell_type": "code",
   "execution_count": 4,
   "metadata": {},
   "outputs": [
    {
     "data": {
      "text/plain": [
       "0.07821"
      ]
     },
     "execution_count": 4,
     "metadata": {},
     "output_type": "execute_result"
    }
   ],
   "source": [
    "df.loc[df['id'] == 14317404].iloc[0]['value']"
   ]
  },
  {
   "cell_type": "markdown",
   "metadata": {},
   "source": [
    "<strong>Iterar as linhas do dataframe</strong>"
   ]
  },
  {
   "cell_type": "code",
   "execution_count": 42,
   "metadata": {},
   "outputs": [
    {
     "name": "stdout",
     "output_type": "stream",
     "text": [
      "0 14313738 AGT160 0.06359\n",
      "1 14317404 AGT162 0.07821\n",
      "2 14362561 AGT155 0.21406\n",
      "3 14321720 AGT161 0.32384\n",
      "4 14314713 AGT162 0.07992\n",
      "5 14369775 AGT163 0.1069\n",
      "6 14353801 AGT153 0.06878\n",
      "7 14365883 AGT165 0.08649125\n",
      "8 14332650 AGT153 0.07421\n"
     ]
    }
   ],
   "source": [
    "for row in df.itertuples():\n",
    "    print row[0],row[1],row[2],row[3]"
   ]
  },
  {
   "cell_type": "markdown",
   "metadata": {},
   "source": [
    "<strong>Concatenando dataframes</strong>"
   ]
  },
  {
   "cell_type": "code",
   "execution_count": 45,
   "metadata": {},
   "outputs": [
    {
     "data": {
      "text/html": [
       "<div>\n",
       "<table border=\"1\" class=\"dataframe\">\n",
       "  <thead>\n",
       "    <tr style=\"text-align: right;\">\n",
       "      <th></th>\n",
       "      <th>id</th>\n",
       "      <th>variable</th>\n",
       "      <th>value</th>\n",
       "    </tr>\n",
       "  </thead>\n",
       "  <tbody>\n",
       "    <tr>\n",
       "      <th>6</th>\n",
       "      <td>14353801</td>\n",
       "      <td>AGT153</td>\n",
       "      <td>0.068780</td>\n",
       "    </tr>\n",
       "    <tr>\n",
       "      <th>8</th>\n",
       "      <td>14332650</td>\n",
       "      <td>AGT153</td>\n",
       "      <td>0.074210</td>\n",
       "    </tr>\n",
       "    <tr>\n",
       "      <th>0</th>\n",
       "      <td>14313738</td>\n",
       "      <td>AGT160</td>\n",
       "      <td>0.063590</td>\n",
       "    </tr>\n",
       "    <tr>\n",
       "      <th>1</th>\n",
       "      <td>14317404</td>\n",
       "      <td>AGT162</td>\n",
       "      <td>0.078210</td>\n",
       "    </tr>\n",
       "    <tr>\n",
       "      <th>2</th>\n",
       "      <td>14362561</td>\n",
       "      <td>AGT155</td>\n",
       "      <td>0.214060</td>\n",
       "    </tr>\n",
       "    <tr>\n",
       "      <th>3</th>\n",
       "      <td>14321720</td>\n",
       "      <td>AGT161</td>\n",
       "      <td>0.323840</td>\n",
       "    </tr>\n",
       "    <tr>\n",
       "      <th>4</th>\n",
       "      <td>14314713</td>\n",
       "      <td>AGT162</td>\n",
       "      <td>0.079920</td>\n",
       "    </tr>\n",
       "    <tr>\n",
       "      <th>5</th>\n",
       "      <td>14369775</td>\n",
       "      <td>AGT163</td>\n",
       "      <td>0.106900</td>\n",
       "    </tr>\n",
       "    <tr>\n",
       "      <th>7</th>\n",
       "      <td>14365883</td>\n",
       "      <td>AGT165</td>\n",
       "      <td>0.086491</td>\n",
       "    </tr>\n",
       "  </tbody>\n",
       "</table>\n",
       "</div>"
      ],
      "text/plain": [
       "         id variable     value\n",
       "6  14353801   AGT153  0.068780\n",
       "8  14332650   AGT153  0.074210\n",
       "0  14313738   AGT160  0.063590\n",
       "1  14317404   AGT162  0.078210\n",
       "2  14362561   AGT155  0.214060\n",
       "3  14321720   AGT161  0.323840\n",
       "4  14314713   AGT162  0.079920\n",
       "5  14369775   AGT163  0.106900\n",
       "7  14365883   AGT165  0.086491"
      ]
     },
     "execution_count": 45,
     "metadata": {},
     "output_type": "execute_result"
    }
   ],
   "source": [
    "df1 = df.loc[df['variable'] == 'AGT153']\n",
    "df2 = df.loc[df['variable'] != 'AGT153']\n",
    "df3 = df1.append(df2)\n",
    "df3"
   ]
  },
  {
   "cell_type": "markdown",
   "metadata": {},
   "source": [
    "<h1>Operações de conjunto</h1>\n",
    "<ul>\n",
    "<li>Ordenamento</li>\n",
    "<li>Agrupamento</li>\n",
    "<li>LIMIT</li>\n",
    "<li>Diferença de conjuntos <em>(pegar só o que tem em um e não no outro)</em></li>\n",
    "</ul>"
   ]
  },
  {
   "cell_type": "markdown",
   "metadata": {},
   "source": [
    "<strong>Ordenar por variable e value, agrupar por variable, pegar somente o maior value</strong>"
   ]
  },
  {
   "cell_type": "code",
   "execution_count": 9,
   "metadata": {
    "scrolled": true
   },
   "outputs": [
    {
     "data": {
      "text/html": [
       "<div>\n",
       "<table border=\"1\" class=\"dataframe\">\n",
       "  <thead>\n",
       "    <tr style=\"text-align: right;\">\n",
       "      <th></th>\n",
       "      <th>id</th>\n",
       "      <th>variable</th>\n",
       "      <th>value</th>\n",
       "    </tr>\n",
       "  </thead>\n",
       "  <tbody>\n",
       "    <tr>\n",
       "      <th>7</th>\n",
       "      <td>14365883</td>\n",
       "      <td>AGT165</td>\n",
       "      <td>0.086491</td>\n",
       "    </tr>\n",
       "    <tr>\n",
       "      <th>5</th>\n",
       "      <td>14369775</td>\n",
       "      <td>AGT163</td>\n",
       "      <td>0.106900</td>\n",
       "    </tr>\n",
       "    <tr>\n",
       "      <th>4</th>\n",
       "      <td>14314713</td>\n",
       "      <td>AGT162</td>\n",
       "      <td>0.079920</td>\n",
       "    </tr>\n",
       "    <tr>\n",
       "      <th>3</th>\n",
       "      <td>14321720</td>\n",
       "      <td>AGT161</td>\n",
       "      <td>0.323840</td>\n",
       "    </tr>\n",
       "    <tr>\n",
       "      <th>0</th>\n",
       "      <td>14313738</td>\n",
       "      <td>AGT160</td>\n",
       "      <td>0.063590</td>\n",
       "    </tr>\n",
       "    <tr>\n",
       "      <th>2</th>\n",
       "      <td>14362561</td>\n",
       "      <td>AGT155</td>\n",
       "      <td>0.214060</td>\n",
       "    </tr>\n",
       "    <tr>\n",
       "      <th>8</th>\n",
       "      <td>14332650</td>\n",
       "      <td>AGT153</td>\n",
       "      <td>0.074210</td>\n",
       "    </tr>\n",
       "  </tbody>\n",
       "</table>\n",
       "</div>"
      ],
      "text/plain": [
       "         id variable     value\n",
       "7  14365883   AGT165  0.086491\n",
       "5  14369775   AGT163  0.106900\n",
       "4  14314713   AGT162  0.079920\n",
       "3  14321720   AGT161  0.323840\n",
       "0  14313738   AGT160  0.063590\n",
       "2  14362561   AGT155  0.214060\n",
       "8  14332650   AGT153  0.074210"
      ]
     },
     "execution_count": 9,
     "metadata": {},
     "output_type": "execute_result"
    }
   ],
   "source": [
    "df.sort_values(by=['variable','value'], ascending=False).groupby('variable').head(1)"
   ]
  },
  {
   "cell_type": "markdown",
   "metadata": {},
   "source": [
    "<strong>Diferença de conjuntos</strong>\n",
    "<br/><em>Significa pegar somente o que sobrou</em>"
   ]
  },
  {
   "cell_type": "code",
   "execution_count": 29,
   "metadata": {},
   "outputs": [
    {
     "data": {
      "text/html": [
       "<div>\n",
       "<table border=\"1\" class=\"dataframe\">\n",
       "  <thead>\n",
       "    <tr style=\"text-align: right;\">\n",
       "      <th></th>\n",
       "      <th>id</th>\n",
       "      <th>variable</th>\n",
       "      <th>value</th>\n",
       "    </tr>\n",
       "  </thead>\n",
       "  <tbody>\n",
       "    <tr>\n",
       "      <th>1</th>\n",
       "      <td>14317404</td>\n",
       "      <td>AGT162</td>\n",
       "      <td>0.07821</td>\n",
       "    </tr>\n",
       "    <tr>\n",
       "      <th>6</th>\n",
       "      <td>14353801</td>\n",
       "      <td>AGT153</td>\n",
       "      <td>0.06878</td>\n",
       "    </tr>\n",
       "  </tbody>\n",
       "</table>\n",
       "</div>"
      ],
      "text/plain": [
       "         id variable    value\n",
       "1  14317404   AGT162  0.07821\n",
       "6  14353801   AGT153  0.06878"
      ]
     },
     "execution_count": 29,
     "metadata": {},
     "output_type": "execute_result"
    }
   ],
   "source": [
    "df2 = df\n",
    "df1 = df.sort_values(by=['variable','value'], ascending=False).groupby('variable').head(1)\n",
    "#Isto é o que tem em df2 mas não tem em df1.\n",
    "#Se df2 e df1 são conjuntos, isto é o equivalente a df2 - df1\n",
    "df2[~df2.isin(df1).all(1)]"
   ]
  }
 ],
 "metadata": {
  "kernelspec": {
   "display_name": "Python 3",
   "language": "python",
   "name": "python3"
  },
  "language_info": {
   "codemirror_mode": {
    "name": "ipython",
    "version": 3
   },
   "file_extension": ".py",
   "mimetype": "text/x-python",
   "name": "python",
   "nbconvert_exporter": "python",
   "pygments_lexer": "ipython3",
   "version": "3.6.5"
  }
 },
 "nbformat": 4,
 "nbformat_minor": 1
}
